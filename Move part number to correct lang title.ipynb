{
 "cells": [
  {
   "cell_type": "code",
   "execution_count": 11,
   "id": "aabfd4f9",
   "metadata": {},
   "outputs": [],
   "source": [
    "from bs4 import BeautifulSoup\n",
    "import os\n",
    "\n",
    "\n",
    "def move_spa_over_eng(path):\n",
    "    for f in os.listdir(path):\n",
    "        with open(os.path.join(path, f), encoding=\"utf8\") as fp:\n",
    "            soup = BeautifulSoup(fp, 'xml')\n",
    "\n",
    "        # find titles and partNumbers\n",
    "        title_spa = soup.find(\"title\", lang=\"spa\")\n",
    "        title_eng = soup.find(\"title\", lang=\"eng\")\n",
    "        part_spa = soup.find(\"partNumber\", lang=\"spa\")\n",
    "        part_eng = soup.find(\"partNumber\", lang=\"eng\")\n",
    "        partName_spa = soup.find(\"partName\", lang=\"spa\")\n",
    "        partName_eng = soup.find(\"partName\", lang=\"eng\")\n",
    "\n",
    "        # insert partNumbers into correct titles\n",
    "        if part_eng is not None:\n",
    "            try:\n",
    "                title_spa.insert_after(part_spa) \n",
    "                title_eng.insert_after(part_eng)\n",
    "            except:\n",
    "                print(\"Title error:\"+str(os.path.join(path, f)))\n",
    "                continue\n",
    "\n",
    "        if partName_eng is not None:\n",
    "            try:\n",
    "                title_spa.insert_after(partName_spa) \n",
    "                title_eng.insert_after(partName_eng)\n",
    "            except:\n",
    "                print(\"partName error:\"+str(os.path.join(path, f)))\n",
    "                continue\n",
    "\n",
    "        # delete now-blank titleInfo tags\n",
    "        for x in soup.find_all(\"titleInfo\"):\n",
    "            if len(x.get_text(strip=True)) == 0:\n",
    "                x.extract()\n",
    "\n",
    "        #reorder tags so spanish is first\n",
    "        if title_spa:\n",
    "            try:\n",
    "                whole_title_spa = soup.find(\"title\", lang=\"spa\").parent\n",
    "                whole_title_eng = soup.find(\"title\", lang=\"eng\").parent\n",
    "                whole_title_eng.insert_before(whole_title_spa)\n",
    "            except:\n",
    "                print(\"Title move error:\"+str(os.path.join(path, f)))\n",
    "                continue\n",
    "                \n",
    "        subject_eng = soup.find(\"topic\", lang=\"eng\").parent\n",
    "        for item in soup.findAll(\"topic\", lang=\"spa\"):\n",
    "            try:\n",
    "                subject_eng.insert_before(item.parent)\n",
    "            except:\n",
    "                print(\"Subject error:\"+str(os.path.join(path, f)))\n",
    "                continue\n",
    "\n",
    "        abs_spa = soup.find(\"abstract\", lang=\"spa\")\n",
    "        abs_eng = soup.find(\"abstract\", lang=\"eng\")\n",
    "        try:\n",
    "            abs_eng.insert_before(abs_spa)\n",
    "        except:\n",
    "            print(\"Abs error:\"+str(os.path.join(path, f)))\n",
    "            continue\n",
    "\n",
    "        # save files\n",
    "        rf = open(os.path.join(path, f), \"w\", encoding=\"utf8\")\n",
    "        rf.write(str(soup))\n"
   ]
  },
  {
   "cell_type": "code",
   "execution_count": 13,
   "id": "1ab0208f",
   "metadata": {},
   "outputs": [
    {
     "name": "stdout",
     "output_type": "stream",
     "text": [
      "Title error:C:\\Users\\rmarsh1\\Box\\DSI\\Working Files\\□In Process\\TUDL Radionovelas Restructure\\Series_Titulos-miscelaneos\\LAL_171126_Griselda-hija-de-la-gitana\\Metadata\\exportedMODS - Copy\\tulane_94076_MODS.xml\n",
      "Title error:C:\\Users\\rmarsh1\\Box\\DSI\\Working Files\\□In Process\\TUDL Radionovelas Restructure\\Series_Titulos-miscelaneos\\LAL_171126_Griselda-hija-de-la-gitana\\Metadata\\exportedMODS - Copy\\tulane_94077_MODS.xml\n",
      "Title error:C:\\Users\\rmarsh1\\Box\\DSI\\Working Files\\□In Process\\TUDL Radionovelas Restructure\\Series_Titulos-miscelaneos\\LAL_171127_Tu-eres-la-luz\\Metadata\\exportedMODS - Copy\\tulane_94079_MODS.xml\n",
      "Title error:C:\\Users\\rmarsh1\\Box\\DSI\\Working Files\\□In Process\\TUDL Radionovelas Restructure\\Series_Titulos-miscelaneos\\LAL_171127_Tu-eres-la-luz\\Metadata\\exportedMODS - Copy\\tulane_94080_MODS.xml\n",
      "Title error:C:\\Users\\rmarsh1\\Box\\DSI\\Working Files\\□In Process\\TUDL Radionovelas Restructure\\Series_Titulos-miscelaneos\\LAL_171128_Mi-corazón-no-te-olivida\\Metadata\\exportedMODS - Copy\\tulane_94082_MODS.xml\n",
      "Title error:C:\\Users\\rmarsh1\\Box\\DSI\\Working Files\\□In Process\\TUDL Radionovelas Restructure\\Series_Titulos-miscelaneos\\LAL_171128_Mi-corazón-no-te-olivida\\Metadata\\exportedMODS - Copy\\tulane_94083_MODS.xml\n",
      "Title error:C:\\Users\\rmarsh1\\Box\\DSI\\Working Files\\□In Process\\TUDL Radionovelas Restructure\\Series_Titulos-miscelaneos\\LAL_171129_De-la-misma-sangre\\Metadata\\exportedMODS - Copy\\tulane_94084.xml\n",
      "Title error:C:\\Users\\rmarsh1\\Box\\DSI\\Working Files\\□In Process\\TUDL Radionovelas Restructure\\Series_Titulos-miscelaneos\\LAL_171021_La-Caridad-del-Cobre\\Metadata\\exportedMODS - Copy\\tulane_117791_MODS.xml\n",
      "Subject error:C:\\Users\\rmarsh1\\Box\\DSI\\Working Files\\□In Process\\TUDL Radionovelas Restructure\\Series_Titulos-miscelaneos\\LAL_171021_La-Caridad-del-Cobre\\Metadata\\exportedMODS - Copy\\tulane_117791_MODS.xml\n",
      "Subject error:C:\\Users\\rmarsh1\\Box\\DSI\\Working Files\\□In Process\\TUDL Radionovelas Restructure\\Series_Titulos-miscelaneos\\LAL_171021_La-Caridad-del-Cobre\\Metadata\\exportedMODS - Copy\\tulane_117791_MODS.xml\n",
      "Title error:C:\\Users\\rmarsh1\\Box\\DSI\\Working Files\\□In Process\\TUDL Radionovelas Restructure\\Series_Titulos-miscelaneos\\LAL_171120_Mini-el-angel-del-barrio\\Metadata\\exportedMODS - Copy\\tulane_94068_MODS.xml\n",
      "Title error:C:\\Users\\rmarsh1\\Box\\DSI\\Working Files\\□In Process\\TUDL Radionovelas Restructure\\Series_Titulos-miscelaneos\\LAL_171120_Mini-el-angel-del-barrio\\Metadata\\exportedMODS - Copy\\tulane_94069_MODS.xml\n",
      "Title error:C:\\Users\\rmarsh1\\Box\\DSI\\Working Files\\□In Process\\TUDL Radionovelas Restructure\\Series_Titulos-miscelaneos\\LAL_171121_Pinceladas\\Metadata\\exportedMODS - Copy\\tulane_94088_MODS.xml\n",
      "Title error:C:\\Users\\rmarsh1\\Box\\DSI\\Working Files\\□In Process\\TUDL Radionovelas Restructure\\Series_Titulos-miscelaneos\\LAL_171122_El-derecho-de-vivir\\Metadata\\exportedMODS - Copy\\tulane_94086_MODS.xml\n",
      "Title error:C:\\Users\\rmarsh1\\Box\\DSI\\Working Files\\□In Process\\TUDL Radionovelas Restructure\\Series_Titulos-miscelaneos\\LAL_171124_La-calumnia\\Metadata\\exportedMODS - Copy\\tulane_94085_MODS.xml\n",
      "Title error:C:\\Users\\rmarsh1\\Box\\DSI\\Working Files\\□In Process\\TUDL Radionovelas Restructure\\Series_Titulos-miscelaneos\\LAL_171125_La-galleguita\\Metadata\\exportedMODS - Copy\\tulane_94071_MODS.xml\n",
      "Title error:C:\\Users\\rmarsh1\\Box\\DSI\\Working Files\\□In Process\\TUDL Radionovelas Restructure\\Series_Titulos-miscelaneos\\LAL_171125_La-galleguita\\Metadata\\exportedMODS - Copy\\tulane_94072_MODS.xml\n",
      "Title error:C:\\Users\\rmarsh1\\Box\\DSI\\Working Files\\□In Process\\TUDL Radionovelas Restructure\\Series_Titulos-miscelaneos\\LAL_171125_La-galleguita\\Metadata\\exportedMODS - Copy\\tulane_94073_MODS.xml\n",
      "Title error:C:\\Users\\rmarsh1\\Box\\DSI\\Working Files\\□In Process\\TUDL Radionovelas Restructure\\Series_Titulos-miscelaneos\\LAL_171125_La-galleguita\\Metadata\\exportedMODS - Copy\\tulane_94074_MODS.xml\n"
     ]
    }
   ],
   "source": [
    "paths = [\"LAL_171126_Griselda-hija-de-la-gitana\",\"LAL_171127_Tu-eres-la-luz\",\"LAL_171128_Mi-corazón-no-te-olivida\",\"LAL_171129_De-la-misma-sangre\",\"LAL_171021_La-Caridad-del-Cobre\",\"LAL_171120_Mini-el-angel-del-barrio\",\"LAL_171121_Pinceladas\",\"LAL_171122_El-derecho-de-vivir\",\"LAL_171124_La-calumnia\",\"LAL_171125_La-galleguita\"]\n",
    "\n",
    "for p in paths:\n",
    "    path = f\"C:\\\\Users\\\\rmarsh1\\\\Box\\\\DSI\\\\Working Files\\\\□In Process\\\\TUDL Radionovelas Restructure\\\\Series_Titulos-miscelaneos\\\\{p}\\\\Metadata\\\\exportedMODS - Copy\"\n",
    "    try:\n",
    "        move_spa_over_eng(path)\n",
    "    except:\n",
    "        print(\"Error:\"+str(os.path.join(path, f)))\n",
    "        continue"
   ]
  },
  {
   "cell_type": "code",
   "execution_count": null,
   "id": "729c5c2b",
   "metadata": {},
   "outputs": [],
   "source": [
    "\n"
   ]
  }
 ],
 "metadata": {
  "kernelspec": {
   "display_name": "Python 3 (ipykernel)",
   "language": "python",
   "name": "python3"
  },
  "language_info": {
   "codemirror_mode": {
    "name": "ipython",
    "version": 3
   },
   "file_extension": ".py",
   "mimetype": "text/x-python",
   "name": "python",
   "nbconvert_exporter": "python",
   "pygments_lexer": "ipython3",
   "version": "3.11.5"
  }
 },
 "nbformat": 4,
 "nbformat_minor": 5
}

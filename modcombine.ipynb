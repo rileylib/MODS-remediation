{
 "cells": [
  {
   "cell_type": "code",
   "execution_count": 15,
   "id": "9f4cd441",
   "metadata": {},
   "outputs": [
    {
     "data": {
      "text/plain": [
       "119778"
      ]
     },
     "execution_count": 15,
     "metadata": {},
     "output_type": "execute_result"
    }
   ],
   "source": [
    "from bs4 import BeautifulSoup\n",
    "import glob\n",
    "\n",
    "path = r\"C:\\Users\\rmarsh1\\Box\\DSI\\Metadata\\Remediation\\MODS Cleanup\\The Louis J. Boeri and Minín Bujones Boeri Collection of Cuban-American Radionovelas, 1963-1970 MODS\\Boeri Subcollections MODS\\Títulos misceláneos  Miscellaneous Titles MODS\"\n",
    "files = [f for f in glob.glob(path + \"**/*.xml\")]\n",
    "\n",
    "new_soup = BeautifulSoup(\"<modsCollection></modsCollection>\", 'xml')\n",
    "og_tag = new_soup.modsCollection\n",
    "\n",
    "for f in files:\n",
    "    with open(f, encoding=\"utf8\") as fp:\n",
    "        soup = BeautifulSoup(fp, 'xml')\n",
    "    og_tag.append(soup.mods)\n",
    "    soup.decompose()\n",
    "    \n",
    "f = open(r\"C:\\Users\\rmarsh1\\Downloads\\combinedMODS.xml\", \"w\", encoding=\"utf8\")\n",
    "f.write(str(new_soup))",
    "f.close()"
   ]
  },
  {
   "cell_type": "code",
   "execution_count": null,
   "id": "0f9524b2",
   "metadata": {},
   "outputs": [],
   "source": []
  }
 ],
 "metadata": {
  "kernelspec": {
   "display_name": "Python 3 (ipykernel)",
   "language": "python",
   "name": "python3"
  },
  "language_info": {
   "codemirror_mode": {
    "name": "ipython",
    "version": 3
   },
   "file_extension": ".py",
   "mimetype": "text/x-python",
   "name": "python",
   "nbconvert_exporter": "python",
   "pygments_lexer": "ipython3",
   "version": "3.11.5"
  }
 },
 "nbformat": 4,
 "nbformat_minor": 5
}

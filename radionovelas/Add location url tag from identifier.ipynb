{
 "cells": [
  {
   "cell_type": "code",
   "execution_count": 1,
   "id": "beb00355",
   "metadata": {},
   "outputs": [],
   "source": [
    "from bs4 import BeautifulSoup\n",
    "import os\n",
    "\n",
    "def add_loc_url(path):\n",
    "    files = [f for f in os.listdir(path)]\n",
    "\n",
    "    for f in files:\n",
    "        with open(os.path.join(path, f), encoding=\"utf8\") as fp:\n",
    "            soup = BeautifulSoup(fp, 'xml')\n",
    "\n",
    "        # create new tag \n",
    "        # Here we are creating a new location tag \n",
    "        new_loc_after = soup.new_tag(\"location\")\n",
    "        new_loc_after.append(soup.new_tag(\"url\"))\n",
    "\n",
    "        # Adding content to tag \n",
    "        try:\n",
    "            new_loc_after.url.string = soup.identifier.string + \"_01.mp3\"\n",
    "        except:\n",
    "            print(\"Error:\"+str(os.path.join(path, f)))\n",
    "            continue\n",
    "\n",
    "        # Inserting new tag after identifier\n",
    "        soup.mods.typeOfResource.insert_after(new_loc_after) \n",
    "\n",
    "        # Saving the modified object \n",
    "        f = open(os.path.join(path, f), \"w\", encoding=\"utf8\")\n",
    "        f.write(str(soup))"
   ]
  },
  {
   "cell_type": "code",
   "execution_count": 3,
   "id": "95c37f4c",
   "metadata": {},
   "outputs": [],
   "source": [
    "paths = [\"LAL_171126_Griselda-hija-de-la-gitana\",\"LAL_171127_Tu-eres-la-luz\",\"LAL_171128_Mi-corazón-no-te-olivida\",\"LAL_171129_De-la-misma-sangre\",\"LAL_171021_La-Caridad-del-Cobre\",\"LAL_171120_Mini-el-angel-del-barrio\",\"LAL_171121_Pinceladas\",\"LAL_171122_El-derecho-de-vivir\",\"LAL_171124_La-calumnia\",\"LAL_171125_La-galleguita\"]\n",
    "for p in paths:\n",
    "    path = f\"C:\\\\Users\\\\rmarsh1\\\\Box\\\\DSI\\\\Working Files\\\\□In Process\\\\TUDL Radionovelas Restructure\\\\Series_Titulos-miscelaneos\\\\{p}\\\\Metadata\\\\exportedMODS - Copy\"\n",
    "    try:\n",
    "        add_loc_url(path)\n",
    "    except:\n",
    "        print(\"Error:\"+str(os.path.join(path, f)))\n",
    "        continue"
   ]
  },
  {
   "cell_type": "code",
   "execution_count": null,
   "id": "6c04b2be",
   "metadata": {},
   "outputs": [],
   "source": []
  }
 ],
 "metadata": {
  "kernelspec": {
   "display_name": "Python 3 (ipykernel)",
   "language": "python",
   "name": "python3"
  },
  "language_info": {
   "codemirror_mode": {
    "name": "ipython",
    "version": 3
   },
   "file_extension": ".py",
   "mimetype": "text/x-python",
   "name": "python",
   "nbconvert_exporter": "python",
   "pygments_lexer": "ipython3",
   "version": "3.11.5"
  }
 },
 "nbformat": 4,
 "nbformat_minor": 5
}

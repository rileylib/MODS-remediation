{
 "cells": [
  {
   "cell_type": "code",
   "execution_count": 4,
   "id": "1a7b2350",
   "metadata": {},
   "outputs": [],
   "source": [
    "from bs4 import BeautifulSoup\n",
    "import os\n",
    "\n",
    "path = r\"TUDL Radionovelas Restructure\\Series_Titulos-miscelaneos\\LAL_171120_Mini-el-angel-del-barrio\\Metadata\\combinedMODS.xml\"\n",
    "\n",
    "with open(path, encoding=\"utf8\") as fp:\n",
    "    soup = BeautifulSoup(fp, 'xml')\n",
    "\n",
    "for m in soup.findAll(\"mods\"):\n",
    "\n",
    "    # find partNumbers\n",
    "    part_spa = m.find(\"partNumber\", lang=\"spa\")\n",
    "    part_eng = m.find(\"partNumber\", lang=\"eng\")\n",
    "    \n",
    "    spa = part_spa.text.split()\n",
    "    eng = part_eng.text.split()\n",
    "    \n",
    "    part_spa.string = spa[0] +\" \"+spa[1].zfill(3)\n",
    "    part_eng.string = eng[0] +\" \"+eng[1].zfill(3)\n",
    "      \n",
    "\n",
    "# Saving the modified object \n",
    "f = open(path, \"w\", encoding=\"utf8\")\n",
    "f.write(str(soup))\n",
    "f.close()"
   ]
  },
  {
   "cell_type": "code",
   "execution_count": null,
   "id": "27b19c13",
   "metadata": {},
   "outputs": [],
   "source": []
  }
 ],
 "metadata": {
  "kernelspec": {
   "display_name": "Python 3 (ipykernel)",
   "language": "python",
   "name": "python3"
  },
  "language_info": {
   "codemirror_mode": {
    "name": "ipython",
    "version": 3
   },
   "file_extension": ".py",
   "mimetype": "text/x-python",
   "name": "python",
   "nbconvert_exporter": "python",
   "pygments_lexer": "ipython3",
   "version": "3.11.5"
  }
 },
 "nbformat": 4,
 "nbformat_minor": 5
}
